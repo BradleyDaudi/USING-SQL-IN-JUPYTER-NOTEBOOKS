{
 "cells": [
  {
   "cell_type": "markdown",
   "id": "bf17eebd",
   "metadata": {},
   "source": [
    "<div align=\"right\" style=\" font-size: 80%; text-align: center; margin: 0 auto\">\n",
    "<img src=\"https://raw.githubusercontent.com/Explore-AI/Pictures/master/ExploreAI_logos/Logo blue_dark.png\"  style=\"width:25px\" align=\"right\";/>\n",
    "</div>"
   ]
  },
  {
   "cell_type": "markdown",
   "id": "f662d169",
   "metadata": {},
   "source": [
    "# Join statements\n",
    "© ExploreAI Academy"
   ]
  },
  {
   "cell_type": "markdown",
   "id": "26af890c",
   "metadata": {},
   "source": [
    "In this exercise,  we will explore different SQL `JOIN` statements in order to cross-examine data contained in multiple tables in a dataset.\n",
    "\n",
    "\n"
   ]
  },
  {
   "cell_type": "markdown",
   "id": "3259ef42",
   "metadata": {},
   "source": [
    "> ⚠️ In this exercise, we will query a sample SQLite database file called Chinook to gain some insight into the data. Ensure that you have downloaded the database file, `chinook.db`."
   ]
  },
  {
   "cell_type": "markdown",
   "id": "2d230d14",
   "metadata": {
    "tags": []
   },
   "source": [
    "## Learning objectives\n",
    "\n",
    "In this train, we will learn how to:\n",
    "- Join multiple tables.\n",
    "- Find common information between tables.\n",
    "- Use a `LEFT JOIN` to check for missing information.\n",
    "- Use `CROSS JOIN` to find all the possible combinations of required table rows."
   ]
  },
  {
   "cell_type": "markdown",
   "id": "5a0b7683",
   "metadata": {
    "tags": []
   },
   "source": [
    "First, let's load our sample database:\n"
   ]
  },
  {
   "cell_type": "code",
   "execution_count": 1,
   "id": "0f34ea72",
   "metadata": {},
   "outputs": [
    {
     "data": {
      "text/plain": [
       "'Connected: @chinook.db'"
      ]
     },
     "execution_count": 1,
     "metadata": {},
     "output_type": "execute_result"
    }
   ],
   "source": [
    "# load and activate the SQL extension to allow us to execute SQL in a Jupyter notebook\n",
    "%load_ext sql\n",
    "\n",
    "# Load the Chinook database stored in your local machine. \n",
    "# Make sure the file is saved in the same folder as this notebook.\n",
    "%sql sqlite:///chinook.db"
   ]
  },
  {
   "cell_type": "markdown",
   "id": "6643a12f",
   "metadata": {},
   "source": [
    "<div align=\"center\" style=\" font-size: 80%; text-align: center; margin: 0 auto\">\n",
    "<img src=\"https://raw.githubusercontent.com/Explore-AI/Pictures/master/The%20chinook%20database%20ERD.jpeg\"/>\n",
    "<br>\n",
    "<br>\n",
    "    <em>Figure 1: The Chinook database ERD</em>\n",
    "</div>"
   ]
  },
  {
   "cell_type": "markdown",
   "id": "920e89d2",
   "metadata": {
    "tags": []
   },
   "source": [
    "## Overview\n",
    "Run the necessary queries that will provide us with the following information. Compare your queries with the solutions at the end of this notebook.\n"
   ]
  },
  {
   "cell_type": "markdown",
   "id": "0fab2e5c",
   "metadata": {},
   "source": [
    "### Exercise 1\n",
    "\n",
    "Sometimes artists add a title track to their albums. This is a track that has the same title as the album. Write a query that returns albums that have a title track.\n",
    "Return rows in the AlbumId column from the albums table, Title from the albums table, and the Name from the tracks table, where the album table Title column matches the tracks table Name column."
   ]
  },
  {
   "cell_type": "code",
   "execution_count": 2,
   "id": "0ab2cac7",
   "metadata": {},
   "outputs": [
    {
     "name": "stdout",
     "output_type": "stream",
     "text": [
      " * sqlite:///chinook.db\n",
      "Done.\n"
     ]
    },
    {
     "data": {
      "text/html": [
       "<table>\n",
       "    <thead>\n",
       "        <tr>\n",
       "            <th>AlbumId</th>\n",
       "            <th>Album Title</th>\n",
       "            <th>Track Name</th>\n",
       "        </tr>\n",
       "    </thead>\n",
       "    <tbody>\n",
       "        <tr>\n",
       "            <td>2</td>\n",
       "            <td>Balls to the Wall</td>\n",
       "            <td>Balls to the Wall</td>\n",
       "        </tr>\n",
       "        <tr>\n",
       "            <td>3</td>\n",
       "            <td>Restless and Wild</td>\n",
       "            <td>Restless and Wild</td>\n",
       "        </tr>\n",
       "        <tr>\n",
       "            <td>4</td>\n",
       "            <td>Let There Be Rock</td>\n",
       "            <td>Let There Be Rock</td>\n",
       "        </tr>\n",
       "        <tr>\n",
       "            <td>152</td>\n",
       "            <td>Master Of Puppets</td>\n",
       "            <td>Master Of Puppets</td>\n",
       "        </tr>\n",
       "        <tr>\n",
       "            <td>11</td>\n",
       "            <td>Out Of Exile</td>\n",
       "            <td>Out Of Exile</td>\n",
       "        </tr>\n",
       "        <tr>\n",
       "            <td>16</td>\n",
       "            <td>Black Sabbath</td>\n",
       "            <td>Black Sabbath</td>\n",
       "        </tr>\n",
       "        <tr>\n",
       "            <td>18</td>\n",
       "            <td>Body Count</td>\n",
       "            <td>Body Count</td>\n",
       "        </tr>\n",
       "        <tr>\n",
       "            <td>19</td>\n",
       "            <td>Chemical Wedding</td>\n",
       "            <td>Chemical Wedding</td>\n",
       "        </tr>\n",
       "        <tr>\n",
       "            <td>21</td>\n",
       "            <td>Prenda Minha</td>\n",
       "            <td>Prenda Minha</td>\n",
       "        </tr>\n",
       "        <tr>\n",
       "            <td>23</td>\n",
       "            <td>Minha Historia</td>\n",
       "            <td>Minha Historia</td>\n",
       "        </tr>\n",
       "    </tbody>\n",
       "</table>"
      ],
      "text/plain": [
       "[(2, 'Balls to the Wall', 'Balls to the Wall'),\n",
       " (3, 'Restless and Wild', 'Restless and Wild'),\n",
       " (4, 'Let There Be Rock', 'Let There Be Rock'),\n",
       " (152, 'Master Of Puppets', 'Master Of Puppets'),\n",
       " (11, 'Out Of Exile', 'Out Of Exile'),\n",
       " (16, 'Black Sabbath', 'Black Sabbath'),\n",
       " (18, 'Body Count', 'Body Count'),\n",
       " (19, 'Chemical Wedding', 'Chemical Wedding'),\n",
       " (21, 'Prenda Minha', 'Prenda Minha'),\n",
       " (23, 'Minha Historia', 'Minha Historia')]"
      ]
     },
     "execution_count": 2,
     "metadata": {},
     "output_type": "execute_result"
    }
   ],
   "source": [
    "%%sql\n",
    "\n",
    "SELECT \n",
    "    a.AlbumId, \n",
    "    a.Title AS \"Album Title\", \n",
    "    t.Name AS \"Track Name\"\n",
    "FROM \n",
    "    albums a\n",
    "INNER JOIN \n",
    "    tracks AS t\n",
    "    ON a.Title = t.Name\n",
    "LIMIT 10;  -- Remove this line to see the full query output"
   ]
  },
  {
   "cell_type": "markdown",
   "id": "86802726",
   "metadata": {},
   "source": [
    "### Exercise 2\n",
    "\n",
    "Suppose that in the previous exercise, we were additionally interested in knowing who the artists of the listed albums are. Write a query that can achieve this."
   ]
  },
  {
   "cell_type": "code",
   "execution_count": 3,
   "id": "91f3421f",
   "metadata": {},
   "outputs": [
    {
     "name": "stdout",
     "output_type": "stream",
     "text": [
      " * sqlite:///chinook.db\n",
      "Done.\n"
     ]
    },
    {
     "data": {
      "text/html": [
       "<table>\n",
       "    <thead>\n",
       "        <tr>\n",
       "            <th>AlbumId</th>\n",
       "            <th>Album Title</th>\n",
       "            <th>Track Name</th>\n",
       "            <th>Artist Name</th>\n",
       "        </tr>\n",
       "    </thead>\n",
       "    <tbody>\n",
       "        <tr>\n",
       "            <td>2</td>\n",
       "            <td>Balls to the Wall</td>\n",
       "            <td>Balls to the Wall</td>\n",
       "            <td>Accept</td>\n",
       "        </tr>\n",
       "        <tr>\n",
       "            <td>3</td>\n",
       "            <td>Restless and Wild</td>\n",
       "            <td>Restless and Wild</td>\n",
       "            <td>Accept</td>\n",
       "        </tr>\n",
       "        <tr>\n",
       "            <td>4</td>\n",
       "            <td>Let There Be Rock</td>\n",
       "            <td>Let There Be Rock</td>\n",
       "            <td>AC/DC</td>\n",
       "        </tr>\n",
       "        <tr>\n",
       "            <td>11</td>\n",
       "            <td>Out Of Exile</td>\n",
       "            <td>Out Of Exile</td>\n",
       "            <td>Audioslave</td>\n",
       "        </tr>\n",
       "        <tr>\n",
       "            <td>16</td>\n",
       "            <td>Black Sabbath</td>\n",
       "            <td>Black Sabbath</td>\n",
       "            <td>Black Sabbath</td>\n",
       "        </tr>\n",
       "        <tr>\n",
       "            <td>16</td>\n",
       "            <td>Black Sabbath</td>\n",
       "            <td>Black Sabbath</td>\n",
       "            <td>Black Sabbath</td>\n",
       "        </tr>\n",
       "        <tr>\n",
       "            <td>18</td>\n",
       "            <td>Body Count</td>\n",
       "            <td>Body Count</td>\n",
       "            <td>Body Count</td>\n",
       "        </tr>\n",
       "        <tr>\n",
       "            <td>19</td>\n",
       "            <td>Chemical Wedding</td>\n",
       "            <td>Chemical Wedding</td>\n",
       "            <td>Bruce Dickinson</td>\n",
       "        </tr>\n",
       "        <tr>\n",
       "            <td>21</td>\n",
       "            <td>Prenda Minha</td>\n",
       "            <td>Prenda Minha</td>\n",
       "            <td>Caetano Veloso</td>\n",
       "        </tr>\n",
       "        <tr>\n",
       "            <td>23</td>\n",
       "            <td>Minha Historia</td>\n",
       "            <td>Minha Historia</td>\n",
       "            <td>Chico Buarque</td>\n",
       "        </tr>\n",
       "    </tbody>\n",
       "</table>"
      ],
      "text/plain": [
       "[(2, 'Balls to the Wall', 'Balls to the Wall', 'Accept'),\n",
       " (3, 'Restless and Wild', 'Restless and Wild', 'Accept'),\n",
       " (4, 'Let There Be Rock', 'Let There Be Rock', 'AC/DC'),\n",
       " (11, 'Out Of Exile', 'Out Of Exile', 'Audioslave'),\n",
       " (16, 'Black Sabbath', 'Black Sabbath', 'Black Sabbath'),\n",
       " (16, 'Black Sabbath', 'Black Sabbath', 'Black Sabbath'),\n",
       " (18, 'Body Count', 'Body Count', 'Body Count'),\n",
       " (19, 'Chemical Wedding', 'Chemical Wedding', 'Bruce Dickinson'),\n",
       " (21, 'Prenda Minha', 'Prenda Minha', 'Caetano Veloso'),\n",
       " (23, 'Minha Historia', 'Minha Historia', 'Chico Buarque')]"
      ]
     },
     "execution_count": 3,
     "metadata": {},
     "output_type": "execute_result"
    }
   ],
   "source": [
    "%%sql\n",
    "\n",
    "SELECT \n",
    "    a.AlbumId, \n",
    "    a.Title AS \"Album Title\", \n",
    "    t.Name AS \"Track Name\", \n",
    "    ar.Name AS \"Artist Name\"\n",
    "FROM \n",
    "    albums AS a\n",
    "INNER JOIN \n",
    "    tracks AS t\n",
    "    ON a.Title = t.Name\n",
    "INNER JOIN \n",
    "    artists AS ar\n",
    "    ON ar.ArtistId = a.ArtistId\n",
    "LIMIT 10;  -- Remove this line to see the full query output"
   ]
  },
  {
   "cell_type": "markdown",
   "id": "f0fade51",
   "metadata": {},
   "source": [
    "### Exercise 3\n",
    "\n",
    "One use case for a `LEFT JOIN` is that it can be used to check for missing information. In this case, try to find out what media items have not been bought yet (i.e. are not an item in any invoice)."
   ]
  },
  {
   "cell_type": "code",
   "execution_count": 4,
   "id": "748f4263",
   "metadata": {},
   "outputs": [
    {
     "name": "stdout",
     "output_type": "stream",
     "text": [
      " * sqlite:///chinook.db\n",
      "Done.\n"
     ]
    },
    {
     "data": {
      "text/html": [
       "<table>\n",
       "    <thead>\n",
       "        <tr>\n",
       "            <th>TrackId</th>\n",
       "            <th>InvoiceId</th>\n",
       "        </tr>\n",
       "    </thead>\n",
       "    <tbody>\n",
       "        <tr>\n",
       "            <td>1</td>\n",
       "            <td>108</td>\n",
       "        </tr>\n",
       "        <tr>\n",
       "            <td>6</td>\n",
       "            <td>2</td>\n",
       "        </tr>\n",
       "        <tr>\n",
       "            <td>7</td>\n",
       "            <td>None</td>\n",
       "        </tr>\n",
       "        <tr>\n",
       "            <td>8</td>\n",
       "            <td>2</td>\n",
       "        </tr>\n",
       "        <tr>\n",
       "            <td>8</td>\n",
       "            <td>214</td>\n",
       "        </tr>\n",
       "        <tr>\n",
       "            <td>9</td>\n",
       "            <td>108</td>\n",
       "        </tr>\n",
       "        <tr>\n",
       "            <td>9</td>\n",
       "            <td>319</td>\n",
       "        </tr>\n",
       "        <tr>\n",
       "            <td>10</td>\n",
       "            <td>2</td>\n",
       "        </tr>\n",
       "        <tr>\n",
       "            <td>11</td>\n",
       "            <td>None</td>\n",
       "        </tr>\n",
       "        <tr>\n",
       "            <td>12</td>\n",
       "            <td>2</td>\n",
       "        </tr>\n",
       "    </tbody>\n",
       "</table>"
      ],
      "text/plain": [
       "[(1, 108),\n",
       " (6, 2),\n",
       " (7, None),\n",
       " (8, 2),\n",
       " (8, 214),\n",
       " (9, 108),\n",
       " (9, 319),\n",
       " (10, 2),\n",
       " (11, None),\n",
       " (12, 2)]"
      ]
     },
     "execution_count": 4,
     "metadata": {},
     "output_type": "execute_result"
    }
   ],
   "source": [
    "%%sql\n",
    "\n",
    "SELECT \n",
    "    t.TrackId, \n",
    "    ii.InvoiceId\n",
    "FROM \n",
    "    tracks t\n",
    "LEFT JOIN \n",
    "    invoice_items ii\n",
    "    ON t.TrackId = ii.TrackId\n",
    "LIMIT 10;  -- Remove this line to see the full query output"
   ]
  },
  {
   "cell_type": "markdown",
   "id": "f28aef00",
   "metadata": {},
   "source": [
    "### Exercise 4\n",
    "\n",
    "In the results, the tracks that have a value of `None` (i.e. `NULL`) for `InvoiceId` are the ones that have not been purchased yet. Add a `WHERE` clause to only focus on these 'unpopular' tracks."
   ]
  },
  {
   "cell_type": "code",
   "execution_count": 5,
   "id": "f4621a53",
   "metadata": {},
   "outputs": [
    {
     "name": "stdout",
     "output_type": "stream",
     "text": [
      " * sqlite:///chinook.db\n",
      "Done.\n"
     ]
    },
    {
     "data": {
      "text/html": [
       "<table>\n",
       "    <thead>\n",
       "        <tr>\n",
       "            <th>TrackId</th>\n",
       "            <th>InvoiceId</th>\n",
       "        </tr>\n",
       "    </thead>\n",
       "    <tbody>\n",
       "        <tr>\n",
       "            <td>7</td>\n",
       "            <td>None</td>\n",
       "        </tr>\n",
       "        <tr>\n",
       "            <td>11</td>\n",
       "            <td>None</td>\n",
       "        </tr>\n",
       "        <tr>\n",
       "            <td>17</td>\n",
       "            <td>None</td>\n",
       "        </tr>\n",
       "        <tr>\n",
       "            <td>18</td>\n",
       "            <td>None</td>\n",
       "        </tr>\n",
       "        <tr>\n",
       "            <td>22</td>\n",
       "            <td>None</td>\n",
       "        </tr>\n",
       "        <tr>\n",
       "            <td>23</td>\n",
       "            <td>None</td>\n",
       "        </tr>\n",
       "        <tr>\n",
       "            <td>27</td>\n",
       "            <td>None</td>\n",
       "        </tr>\n",
       "        <tr>\n",
       "            <td>29</td>\n",
       "            <td>None</td>\n",
       "        </tr>\n",
       "        <tr>\n",
       "            <td>33</td>\n",
       "            <td>None</td>\n",
       "        </tr>\n",
       "        <tr>\n",
       "            <td>34</td>\n",
       "            <td>None</td>\n",
       "        </tr>\n",
       "    </tbody>\n",
       "</table>"
      ],
      "text/plain": [
       "[(7, None),\n",
       " (11, None),\n",
       " (17, None),\n",
       " (18, None),\n",
       " (22, None),\n",
       " (23, None),\n",
       " (27, None),\n",
       " (29, None),\n",
       " (33, None),\n",
       " (34, None)]"
      ]
     },
     "execution_count": 5,
     "metadata": {},
     "output_type": "execute_result"
    }
   ],
   "source": [
    "%%sql\n",
    "\n",
    "SELECT \n",
    "    t.TrackId, \n",
    "    ii.InvoiceId\n",
    "FROM \n",
    "    tracks AS t\n",
    "LEFT JOIN \n",
    "    invoice_items AS ii\n",
    "    ON t.TrackId = ii.TrackId\n",
    "WHERE ii.InvoiceId IS NULL\n",
    "LIMIT 10;  -- Remove this line to see the full query output"
   ]
  },
  {
   "cell_type": "markdown",
   "id": "d151cbb4",
   "metadata": {},
   "source": [
    "### Exercise 5\n",
    "\n",
    "Let's suppose that, as part of a new business strategy, Chinook wants to develop new product categories for their media items that are based on genre and media type. Write a query that will list all possible product categories (i.e. all possible genre and media type combinations)."
   ]
  },
  {
   "cell_type": "code",
   "execution_count": 6,
   "id": "1e003247",
   "metadata": {},
   "outputs": [
    {
     "name": "stdout",
     "output_type": "stream",
     "text": [
      " * sqlite:///chinook.db\n",
      "Done.\n"
     ]
    },
    {
     "data": {
      "text/html": [
       "<table>\n",
       "    <thead>\n",
       "        <tr>\n",
       "            <th>Genre</th>\n",
       "            <th>Media Type</th>\n",
       "        </tr>\n",
       "    </thead>\n",
       "    <tbody>\n",
       "        <tr>\n",
       "            <td>Rock</td>\n",
       "            <td>MPEG audio file</td>\n",
       "        </tr>\n",
       "        <tr>\n",
       "            <td>Rock</td>\n",
       "            <td>Protected AAC audio file</td>\n",
       "        </tr>\n",
       "        <tr>\n",
       "            <td>Rock</td>\n",
       "            <td>Protected MPEG-4 video file</td>\n",
       "        </tr>\n",
       "        <tr>\n",
       "            <td>Rock</td>\n",
       "            <td>Purchased AAC audio file</td>\n",
       "        </tr>\n",
       "        <tr>\n",
       "            <td>Rock</td>\n",
       "            <td>AAC audio file</td>\n",
       "        </tr>\n",
       "        <tr>\n",
       "            <td>Jazz</td>\n",
       "            <td>MPEG audio file</td>\n",
       "        </tr>\n",
       "        <tr>\n",
       "            <td>Jazz</td>\n",
       "            <td>Protected AAC audio file</td>\n",
       "        </tr>\n",
       "        <tr>\n",
       "            <td>Jazz</td>\n",
       "            <td>Protected MPEG-4 video file</td>\n",
       "        </tr>\n",
       "        <tr>\n",
       "            <td>Jazz</td>\n",
       "            <td>Purchased AAC audio file</td>\n",
       "        </tr>\n",
       "        <tr>\n",
       "            <td>Jazz</td>\n",
       "            <td>AAC audio file</td>\n",
       "        </tr>\n",
       "    </tbody>\n",
       "</table>"
      ],
      "text/plain": [
       "[('Rock', 'MPEG audio file'),\n",
       " ('Rock', 'Protected AAC audio file'),\n",
       " ('Rock', 'Protected MPEG-4 video file'),\n",
       " ('Rock', 'Purchased AAC audio file'),\n",
       " ('Rock', 'AAC audio file'),\n",
       " ('Jazz', 'MPEG audio file'),\n",
       " ('Jazz', 'Protected AAC audio file'),\n",
       " ('Jazz', 'Protected MPEG-4 video file'),\n",
       " ('Jazz', 'Purchased AAC audio file'),\n",
       " ('Jazz', 'AAC audio file')]"
      ]
     },
     "execution_count": 6,
     "metadata": {},
     "output_type": "execute_result"
    }
   ],
   "source": [
    "%%sql\n",
    "\n",
    "SELECT \n",
    "    g.Name AS \"Genre\", \n",
    "    m.Name AS \"Media Type\"\n",
    "FROM \n",
    "    genres AS g\n",
    "CROSS JOIN \n",
    "    media_types AS m\n",
    "LIMIT 10;  -- Remove this line to see the full query output"
   ]
  }
 ],
 "metadata": {
  "kernelspec": {
   "display_name": "Python 3 (ipykernel)",
   "language": "python",
   "name": "python3"
  },
  "language_info": {
   "codemirror_mode": {
    "name": "ipython",
    "version": 3
   },
   "file_extension": ".py",
   "mimetype": "text/x-python",
   "name": "python",
   "nbconvert_exporter": "python",
   "pygments_lexer": "ipython3",
   "version": "3.11.5"
  }
 },
 "nbformat": 4,
 "nbformat_minor": 5
}
